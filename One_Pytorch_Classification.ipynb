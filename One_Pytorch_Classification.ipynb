{
 "cells": [
  {
   "cell_type": "code",
   "execution_count": 200,
   "metadata": {},
   "outputs": [],
   "source": [
    "#-------------------- pip install torchvision-------------------------\n",
    "\n",
    "# in this example we going to develop a classifier using torch python library and \n",
    "# writing the complete rutine (architecture, pre-processing, processing, validation and prediction) from the scratch\n",
    "#lets start then importung principal librearies:\n",
    "import torch\n",
    "import matplotlib.pyplot as plt\n",
    "import torch.nn as nn\n",
    "\n",
    "# now lets import our dataset\n",
    "from torchvision import datasets\n",
    "from torchvision.transforms import ToTensor\n",
    "\n",
    "# creamos un directorio para guardar el dataset\n",
    "data_mnist=datasets.MNIST(\n",
    "    root= 'datos', # where root is the root directry on which where we are\n",
    "    train= True, \n",
    "    download= True, \n",
    "    transform= ToTensor()\n",
    ")\n",
    "#now we have our 60k data items available and transformed to tensors using ToTensor\n",
    "#have GPU?\n",
    "device=(\n",
    "    'cuda' if torch.cuda.is_available()\n",
    "    else 'cpu'\n",
    ")\n",
    "print(f'usando {device}')\n",
    "# in this case \"device\" is the CUDA variable for GPU when is available, but \n",
    "# for now we'll working using CPU only\n",
    "\n",
    "rows, cols = 3, 3\n",
    "#Lets see our data content:\n",
    "figure=plt.figure(figsize=(8,8))\n",
    "for i in range(1, cols*rows +1):\n",
    "    sample_id=torch.randint(len(data_mnist), size=(1,)).item()\n",
    "    img, lebel= data_mnist[sample_id]\n",
    "    figure.add_subplot(rows, cols, i)\n",
    "    plt.title(str(lebel))\n",
    "    plt.axis('off')\n",
    "    plt.imshow(img.squeeze(), cmap='CMRmap')\n",
    "plt.show()\n"
   ]
  },
  {
   "cell_type": "code",
   "execution_count": 120,
   "metadata": {},
   "outputs": [
    {
     "data": {
      "text/plain": [
       "<torch._C.Generator at 0x258ba73ea30>"
      ]
     },
     "execution_count": 120,
     "metadata": {},
     "output_type": "execute_result"
    }
   ],
   "source": [
    "#training, validation and test datasets (80%, 10%, 10%): we need to create 3 partitions over the actual dataset to achive our goals. To do so...\n",
    "torch.manual_seed(123) #lets take the randomness control\n",
    "#now we can recreate the model independently of the running times.\n",
    "\n",
    "train, val, test=torch.utils.data.random_split(\n",
    "    data_mnist, [0.8 ,0.1, 0.1]\n",
    ")\n",
    "print(f'training set: {len(train)}')\n",
    "print(f'training val: {len(val)}')\n",
    "print(f'training test: {len(test)}')"
   ]
  },
  {
   "cell_type": "code",
   "execution_count": 148,
   "metadata": {},
   "outputs": [],
   "source": [
    "#as any NN doesn't accept any type of images. a nn accept vectores only, \n",
    "# then the first vector it's ging to have 28X28 elements i.e. 784 elements (flaten)\n",
    "#hide layer Nlayer + RELU (15 nodes) last layer 10 nodes softmax\n",
    "#In pytorch includint transformers, we use nn module\n",
    "\n",
    "#any neural network architecture is actually a sublass/class of nn.Module\n",
    "#alwais have to add 2 METHODES to this new CLASS: 1.- init (it defines the actual architecture of the neural network)\n",
    "# 2.- \"forward methode\" (tells us how each predition will be generated)\n",
    "# import torch.nn as nn\n",
    "#create Methode INIT by using def in Class definition\n",
    "\n",
    "class neuralnet(nn.Module):\n",
    "    def __init__(self):\n",
    "        super().__init__()\n",
    "        \n",
    "        #we use self along with nn. to add sequentially avery layer we have\n",
    "        #as we said we don't have vectors but images so we need to flat it using flatten\n",
    "        #by self \"object\" (in neural net) we asosiate a new variable called \"flatit\"\n",
    "        self.flatit=nn.Flatten()\n",
    "        self.net=nn.Sequential(#allows to interconect all the layers, net is the atribute that contains all the tree net layers\n",
    "            nn.Linear(28*28, 50),\n",
    "            nn.ReLU(),\n",
    "            nn.Linear(50, 25),\n",
    "            nn.Linear(25, 5),\n",
    "            nn.Softmax()        ##Softmax normalize into (0, 1) to interpret as probability\n",
    "        )\n",
    "    def forward(self, x):#how our neural network actually process the data\n",
    "        #x: entry data item\n",
    "        x=self.flatit(x)\n",
    "        logits=self.net(x) #  numeric values (10) (the output of our network)\n",
    "        return logits\n"
   ]
  },
  {
   "cell_type": "code",
   "execution_count": 152,
   "metadata": {},
   "outputs": [
    {
     "name": "stdout",
     "output_type": "stream",
     "text": [
      "neuralnet(\n",
      "  (flatit): Flatten(start_dim=1, end_dim=-1)\n",
      "  (net): Sequential(\n",
      "    (0): Linear(in_features=784, out_features=50, bias=True)\n",
      "    (1): ReLU()\n",
      "    (2): Linear(in_features=50, out_features=25, bias=True)\n",
      "    (3): Linear(in_features=25, out_features=5, bias=True)\n",
      "    (4): Softmax(dim=None)\n",
      "  )\n",
      ")\n",
      "the number of parameters in the neural network arch is 40655\n"
     ]
    }
   ],
   "source": [
    "model=neuralnet()# we are generating a new instance of the neural network by () writed in model var\n",
    "print(model)\n",
    "t=sum(p.numel() for p in  model.parameters())\n",
    "print(f'the number of parameters in the neural network arch is {t}')"
   ]
  },
  {
   "cell_type": "code",
   "execution_count": 156,
   "metadata": {},
   "outputs": [
    {
     "name": "stdout",
     "output_type": "stream",
     "text": [
      "<class 'torch.Tensor'>\n",
      "<class 'int'>\n",
      "we procced to transform int type into tensor to be properly processed by te network...\n",
      "now our lbl is a <class 'torch.Tensor'>\n"
     ]
    }
   ],
   "source": [
    "#forward propagation:\n",
    "# is the frst predition we gonna have and its not going to be really good itis like this because we need additional tools like back propagation and the gradiant descending/ce\n",
    "img, lbl=train[201]\n",
    "print(type(img))\n",
    "print(type(lbl))\n",
    "print('we procced to transform int type into tensor to be properly processed by te network...')\n",
    "lbl=torch.tensor(lbl).reshape(1)\n",
    "print(f'now our lbl is a {type(lbl)}')\n"
   ]
  },
  {
   "cell_type": "code",
   "execution_count": 164,
   "metadata": {},
   "outputs": [],
   "source": [
    "img, lbl = img.to(device), lbl.to(device)"
   ]
  },
  {
   "cell_type": "code",
   "execution_count": 158,
   "metadata": {},
   "outputs": [
    {
     "name": "stderr",
     "output_type": "stream",
     "text": [
      "c:\\Users\\ARMANDO\\AppData\\Local\\Programs\\Python\\Python311\\Lib\\site-packages\\torch\\nn\\modules\\module.py:1532: UserWarning: Implicit dimension choice for softmax has been deprecated. Change the call to include dim=X as an argument.\n",
      "  return self._call_impl(*args, **kwargs)\n"
     ]
    },
    {
     "data": {
      "text/plain": [
       "tensor([[0.1842, 0.1750, 0.1833, 0.2138, 0.2437]], grad_fn=<SoftmaxBackward0>)"
      ]
     },
     "execution_count": 158,
     "metadata": {},
     "output_type": "execute_result"
    }
   ],
   "source": [
    "logits=model(img)\n",
    "logits"
   ]
  },
  {
   "cell_type": "code",
   "execution_count": 174,
   "metadata": {},
   "outputs": [
    {
     "name": "stdout",
     "output_type": "stream",
     "text": [
      "logits:tensor([[0.1842, 0.1750, 0.1833, 0.2138, 0.2437]], grad_fn=<SoftmaxBackward0>)\n",
      "predicted category: 4\n",
      "actual category: 2\n"
     ]
    },
    {
     "data": {
      "image/png": "[encoded data removed]",
      "text/plain": [
       "<Figure size 640x480 with 1 Axes>"
      ]
     },
     "metadata": {},
     "output_type": "display_data"
    }
   ],
   "source": [
    "y_predict=logits.argmax(1)\n",
    "# ypredict\n",
    "plt.imshow(img.cpu().squeeze(), cmap='CMRmap_r');\n",
    "print(f'logits:{logits}')\n",
    "print(f'predicted category: {y_predict[0]}')\n",
    "print(f'actual category: {lbl[0]}')"
   ]
  },
  {
   "cell_type": "code",
   "execution_count": 176,
   "metadata": {},
   "outputs": [
    {
     "data": {
      "text/plain": [
       "tensor(1.6265, grad_fn=<NllLossBackward0>)"
      ]
     },
     "execution_count": 176,
     "metadata": {},
     "output_type": "execute_result"
    }
   ],
   "source": [
    "#Back propagation:\n",
    "fn_loss=nn.CrossEntropyLoss()\n",
    "optimizer= torch.optim.SGD(model.parameters(), lr=0.3) #gradient descending, learning rate of 30%\n",
    "loss=fn_loss(logits, lbl)\n",
    "loss"
   ]
  },
  {
   "cell_type": "code",
   "execution_count": 177,
   "metadata": {},
   "outputs": [],
   "source": [
    "#now lets calculate de gradients of the loss i.e (calculate the change of the loss regarding to model parameters)\n",
    "loss.backward()\n",
    "optimizer.step()\n",
    "optimizer.zero_grad()    "
   ]
  },
  {
   "cell_type": "code",
   "execution_count": 222,
   "metadata": {},
   "outputs": [],
   "source": [
    "from torch.utils.data import DataLoader\n",
    "batchsize=2000\n",
    "\n",
    "train_loader=DataLoader(\n",
    "    dataset=train, \n",
    "    batch_size=batchsize, \n",
    "    shuffle=True\n",
    ")\n",
    "\n",
    "val_loader=DataLoader(\n",
    "    dataset=val,\n",
    "    batch_size=batchsize,\n",
    "    shuffle=False\n",
    ")"
   ]
  },
  {
   "cell_type": "code",
   "execution_count": 223,
   "metadata": {},
   "outputs": [],
   "source": [
    "#training yn validation of the model\n",
    "#lets take our forward and back propagation and set it in a loop for to iterate it\n",
    "#hiperparameters...\n",
    "learning_rate=0.1\n",
    "epochs=10 #\"the epoch the number of time we want to execute forward-backward\"\n",
    "#lets build our loss function\n",
    "fn_loss=nn.CrossEntropyLoss()\n",
    "optimizer=torch.optim.SGD(model.parameters(), lr=learning_rate)"
   ]
  },
  {
   "cell_type": "code",
   "execution_count": 226,
   "metadata": {},
   "outputs": [
    {
     "ename": "NameError",
     "evalue": "name 'loss_train' is not defined",
     "output_type": "error",
     "traceback": [
      "\u001b[1;31m---------------------------------------------------------------------------\u001b[0m",
      "\u001b[1;31mNameError\u001b[0m                                 Traceback (most recent call last)",
      "Cell \u001b[1;32mIn[226], line 24\u001b[0m\n\u001b[0;32m     21\u001b[0m             ndata \u001b[38;5;241m=\u001b[39m nbatch\u001b[38;5;241m*\u001b[39mbatchsize\n\u001b[0;32m     22\u001b[0m             \u001b[38;5;28mprint\u001b[39m(\u001b[38;5;124mf\u001b[39m\u001b[38;5;124m'\u001b[39m\u001b[38;5;130;01m\\t\u001b[39;00m\u001b[38;5;124mloss:\u001b[39m\u001b[38;5;132;01m{\u001b[39;00mloss\u001b[38;5;241m.\u001b[39mitem()\u001b[38;5;132;01m:\u001b[39;00m\u001b[38;5;124m>7f\u001b[39m\u001b[38;5;132;01m}\u001b[39;00m\u001b[38;5;124m [\u001b[39m\u001b[38;5;132;01m{\u001b[39;00mndata\u001b[38;5;132;01m:\u001b[39;00m\u001b[38;5;124m>5d\u001b[39m\u001b[38;5;132;01m}\u001b[39;00m\u001b[38;5;124m/\u001b[39m\u001b[38;5;132;01m{\u001b[39;00mtrain_size\u001b[38;5;132;01m:\u001b[39;00m\u001b[38;5;124m>5d\u001b[39m\u001b[38;5;132;01m}\u001b[39;00m\u001b[38;5;124m]\u001b[39m\u001b[38;5;124m'\u001b[39m)\n\u001b[1;32m---> 24\u001b[0m \u001b[43mloss_train\u001b[49m \u001b[38;5;241m/\u001b[39m\u001b[38;5;241m=\u001b[39m nbatches\n\u001b[0;32m     25\u001b[0m accuracy \u001b[38;5;241m/\u001b[39m\u001b[38;5;241m=\u001b[39m train_size\n\u001b[0;32m     26\u001b[0m \u001b[38;5;28mprint\u001b[39m(\u001b[38;5;124mf\u001b[39m\u001b[38;5;124m'\u001b[39m\u001b[38;5;124m\\\u001b[39m\u001b[38;5;124mAccuracy/loss (avg)\u001b[39m\u001b[38;5;124m'\u001b[39m)\n",
      "\u001b[1;31mNameError\u001b[0m: name 'loss_train' is not defined"
     ]
    }
   ],
   "source": [
    "#the best practice is to generate two principal funcions : one to train and one more for the validatoin then set them into the 10 for loop \n",
    "def train_loop(dataloader, model, loss_fn, optimizer):\n",
    "    train_size=len(dataloader.dataset)\n",
    "    nbatches=len(dataloader)\n",
    "\n",
    "    model.train()\n",
    "\n",
    "    loss_accum, accuracy_accum= 0, 0\n",
    "\n",
    "    for nbatch, (X, y) in enumerate(dataloader):\n",
    "        X, y=X.to(device), y.to(device)\n",
    "        logits=model(X)\n",
    "        loss=fn_loss(logits, y)\n",
    "        loss.backward()\n",
    "        optimizer.step()\n",
    "        optimizer.zero_grad()\n",
    "\n",
    "        loss_train += loss.item()\n",
    "        accuracy += (logits.argmax(1)==y).type(torch.float).sum().item()\n",
    "        if nbatch %10==0:\n",
    "            ndata = nbatch*batchsize\n",
    "            print(f'\\tloss:{loss.item():>7f} [{ndata:>5d}/{train_size:>5d}]')\n",
    "\n",
    "loss_train /= nbatches\n",
    "accuracy /= train_size\n",
    "print(f'\\Accuracy/loss (avg)')\n",
    "print(f'\\t\\tAccuracy/losss (average) {(100*accuracy):>0.1f}%/{loss_train:>8f}')"
   ]
  },
  {
   "cell_type": "code",
   "execution_count": 227,
   "metadata": {},
   "outputs": [
    {
     "ename": "NameError",
     "evalue": "name 'loss_val' is not defined",
     "output_type": "error",
     "traceback": [
      "\u001b[1;31m---------------------------------------------------------------------------\u001b[0m",
      "\u001b[1;31mNameError\u001b[0m                                 Traceback (most recent call last)",
      "Cell \u001b[1;32mIn[227], line 16\u001b[0m\n\u001b[0;32m     13\u001b[0m             loss_val \u001b[38;5;241m+\u001b[39m\u001b[38;5;241m=\u001b[39mfn_loss(logits, y)\u001b[38;5;241m.\u001b[39mitem()\n\u001b[0;32m     14\u001b[0m             exactitud \u001b[38;5;241m+\u001b[39m\u001b[38;5;241m=\u001b[39m(logits\u001b[38;5;241m.\u001b[39margmax(\u001b[38;5;241m1\u001b[39m)\u001b[38;5;241m==\u001b[39my)\u001b[38;5;241m.\u001b[39mtype(torch\u001b[38;5;241m.\u001b[39mfloat)\u001b[38;5;241m.\u001b[39msum()\u001b[38;5;241m.\u001b[39mitem()\n\u001b[1;32m---> 16\u001b[0m \u001b[43mloss_val\u001b[49m \u001b[38;5;241m/\u001b[39m\u001b[38;5;241m=\u001b[39m nbatches\n\u001b[0;32m     17\u001b[0m accuracy \u001b[38;5;241m/\u001b[39m\u001b[38;5;241m=\u001b[39m val_size\n\u001b[0;32m     19\u001b[0m \u001b[38;5;66;03m# print(f'\\Accuracy/loss (avg)')\u001b[39;00m\n",
      "\u001b[1;31mNameError\u001b[0m: name 'loss_val' is not defined"
     ]
    }
   ],
   "source": [
    "def val_loop(dataloader, model, fn_loss):\n",
    "    val_size=len(dataloader.dataset)\n",
    "    nbatches=len(dataloader)\n",
    "    model.eval()\n",
    "    loss_val, accuracy= 0,0\n",
    "\n",
    "    with torch.no_grad():\n",
    "\n",
    "        for X,y in dataloader:\n",
    "            X, y=X.to(device)\n",
    "            logits=model(X)\n",
    "\n",
    "            loss_val +=fn_loss(logits, y).item()\n",
    "            exactitud +=(logits.argmax(1)==y).type(torch.float).sum().item()\n",
    "\n",
    "loss_val /= nbatches\n",
    "accuracy /= val_size\n",
    "\n",
    "# print(f'\\Accuracy/loss (avg)')\n",
    "print(f'\\t\\tAccuracy/losss (average) {(100*accuracy):>0.1f}%/{loss_val:>8f}')"
   ]
  },
  {
   "cell_type": "code",
   "execution_count": 228,
   "metadata": {},
   "outputs": [
    {
     "name": "stdout",
     "output_type": "stream",
     "text": [
      "iteracion1/10\n",
      "----------------\n"
     ]
    },
    {
     "name": "stderr",
     "output_type": "stream",
     "text": [
      "c:\\Users\\ARMANDO\\AppData\\Local\\Programs\\Python\\Python311\\Lib\\site-packages\\torch\\nn\\modules\\module.py:1532: UserWarning: Implicit dimension choice for softmax has been deprecated. Change the call to include dim=X as an argument.\n",
      "  return self._call_impl(*args, **kwargs)\n"
     ]
    },
    {
     "ename": "IndexError",
     "evalue": "Target 8 is out of bounds.",
     "output_type": "error",
     "traceback": [
      "\u001b[1;31m---------------------------------------------------------------------------\u001b[0m",
      "\u001b[1;31mIndexError\u001b[0m                                Traceback (most recent call last)",
      "Cell \u001b[1;32mIn[228], line 3\u001b[0m\n\u001b[0;32m      1\u001b[0m \u001b[38;5;28;01mfor\u001b[39;00m t \u001b[38;5;129;01min\u001b[39;00m \u001b[38;5;28mrange\u001b[39m(epochs):\n\u001b[0;32m      2\u001b[0m     \u001b[38;5;28mprint\u001b[39m(\u001b[38;5;124mf\u001b[39m\u001b[38;5;124m'\u001b[39m\u001b[38;5;124miteracion\u001b[39m\u001b[38;5;132;01m{\u001b[39;00mt\u001b[38;5;241m+\u001b[39m\u001b[38;5;241m1\u001b[39m\u001b[38;5;132;01m}\u001b[39;00m\u001b[38;5;124m/\u001b[39m\u001b[38;5;132;01m{\u001b[39;00mepochs\u001b[38;5;132;01m}\u001b[39;00m\u001b[38;5;130;01m\\n\u001b[39;00m\u001b[38;5;124m----------------\u001b[39m\u001b[38;5;124m'\u001b[39m)\n\u001b[1;32m----> 3\u001b[0m     \u001b[43mtrain_loop\u001b[49m\u001b[43m(\u001b[49m\u001b[43mtrain_loader\u001b[49m\u001b[43m,\u001b[49m\u001b[43m \u001b[49m\u001b[43mmodel\u001b[49m\u001b[43m,\u001b[49m\u001b[43m \u001b[49m\u001b[43mfn_loss\u001b[49m\u001b[43m,\u001b[49m\u001b[43m \u001b[49m\u001b[43moptimizer\u001b[49m\u001b[43m)\u001b[49m\n\u001b[0;32m      4\u001b[0m     val_loop(val_loader, model, fn_loss)\n\u001b[0;32m      5\u001b[0m \u001b[38;5;28mprint\u001b[39m(\u001b[38;5;124m'\u001b[39m\u001b[38;5;124meso!\u001b[39m\u001b[38;5;124m'\u001b[39m)\n",
      "Cell \u001b[1;32mIn[226], line 13\u001b[0m, in \u001b[0;36mtrain_loop\u001b[1;34m(dataloader, model, loss_fn, optimizer)\u001b[0m\n\u001b[0;32m     11\u001b[0m X, y\u001b[38;5;241m=\u001b[39mX\u001b[38;5;241m.\u001b[39mto(device), y\u001b[38;5;241m.\u001b[39mto(device)\n\u001b[0;32m     12\u001b[0m logits\u001b[38;5;241m=\u001b[39mmodel(X)\n\u001b[1;32m---> 13\u001b[0m loss\u001b[38;5;241m=\u001b[39m\u001b[43mfn_loss\u001b[49m\u001b[43m(\u001b[49m\u001b[43mlogits\u001b[49m\u001b[43m,\u001b[49m\u001b[43m \u001b[49m\u001b[43my\u001b[49m\u001b[43m)\u001b[49m\n\u001b[0;32m     14\u001b[0m loss\u001b[38;5;241m.\u001b[39mbackward()\n\u001b[0;32m     15\u001b[0m optimizer\u001b[38;5;241m.\u001b[39mstep()\n",
      "File \u001b[1;32mc:\\Users\\ARMANDO\\AppData\\Local\\Programs\\Python\\Python311\\Lib\\site-packages\\torch\\nn\\modules\\module.py:1532\u001b[0m, in \u001b[0;36mModule._wrapped_call_impl\u001b[1;34m(self, *args, **kwargs)\u001b[0m\n\u001b[0;32m   1530\u001b[0m     \u001b[38;5;28;01mreturn\u001b[39;00m \u001b[38;5;28mself\u001b[39m\u001b[38;5;241m.\u001b[39m_compiled_call_impl(\u001b[38;5;241m*\u001b[39margs, \u001b[38;5;241m*\u001b[39m\u001b[38;5;241m*\u001b[39mkwargs)  \u001b[38;5;66;03m# type: ignore[misc]\u001b[39;00m\n\u001b[0;32m   1531\u001b[0m \u001b[38;5;28;01melse\u001b[39;00m:\n\u001b[1;32m-> 1532\u001b[0m     \u001b[38;5;28;01mreturn\u001b[39;00m \u001b[38;5;28;43mself\u001b[39;49m\u001b[38;5;241;43m.\u001b[39;49m\u001b[43m_call_impl\u001b[49m\u001b[43m(\u001b[49m\u001b[38;5;241;43m*\u001b[39;49m\u001b[43margs\u001b[49m\u001b[43m,\u001b[49m\u001b[43m \u001b[49m\u001b[38;5;241;43m*\u001b[39;49m\u001b[38;5;241;43m*\u001b[39;49m\u001b[43mkwargs\u001b[49m\u001b[43m)\u001b[49m\n",
      "File \u001b[1;32mc:\\Users\\ARMANDO\\AppData\\Local\\Programs\\Python\\Python311\\Lib\\site-packages\\torch\\nn\\modules\\module.py:1541\u001b[0m, in \u001b[0;36mModule._call_impl\u001b[1;34m(self, *args, **kwargs)\u001b[0m\n\u001b[0;32m   1536\u001b[0m \u001b[38;5;66;03m# If we don't have any hooks, we want to skip the rest of the logic in\u001b[39;00m\n\u001b[0;32m   1537\u001b[0m \u001b[38;5;66;03m# this function, and just call forward.\u001b[39;00m\n\u001b[0;32m   1538\u001b[0m \u001b[38;5;28;01mif\u001b[39;00m \u001b[38;5;129;01mnot\u001b[39;00m (\u001b[38;5;28mself\u001b[39m\u001b[38;5;241m.\u001b[39m_backward_hooks \u001b[38;5;129;01mor\u001b[39;00m \u001b[38;5;28mself\u001b[39m\u001b[38;5;241m.\u001b[39m_backward_pre_hooks \u001b[38;5;129;01mor\u001b[39;00m \u001b[38;5;28mself\u001b[39m\u001b[38;5;241m.\u001b[39m_forward_hooks \u001b[38;5;129;01mor\u001b[39;00m \u001b[38;5;28mself\u001b[39m\u001b[38;5;241m.\u001b[39m_forward_pre_hooks\n\u001b[0;32m   1539\u001b[0m         \u001b[38;5;129;01mor\u001b[39;00m _global_backward_pre_hooks \u001b[38;5;129;01mor\u001b[39;00m _global_backward_hooks\n\u001b[0;32m   1540\u001b[0m         \u001b[38;5;129;01mor\u001b[39;00m _global_forward_hooks \u001b[38;5;129;01mor\u001b[39;00m _global_forward_pre_hooks):\n\u001b[1;32m-> 1541\u001b[0m     \u001b[38;5;28;01mreturn\u001b[39;00m \u001b[43mforward_call\u001b[49m\u001b[43m(\u001b[49m\u001b[38;5;241;43m*\u001b[39;49m\u001b[43margs\u001b[49m\u001b[43m,\u001b[49m\u001b[43m \u001b[49m\u001b[38;5;241;43m*\u001b[39;49m\u001b[38;5;241;43m*\u001b[39;49m\u001b[43mkwargs\u001b[49m\u001b[43m)\u001b[49m\n\u001b[0;32m   1543\u001b[0m \u001b[38;5;28;01mtry\u001b[39;00m:\n\u001b[0;32m   1544\u001b[0m     result \u001b[38;5;241m=\u001b[39m \u001b[38;5;28;01mNone\u001b[39;00m\n",
      "File \u001b[1;32mc:\\Users\\ARMANDO\\AppData\\Local\\Programs\\Python\\Python311\\Lib\\site-packages\\torch\\nn\\modules\\loss.py:1185\u001b[0m, in \u001b[0;36mCrossEntropyLoss.forward\u001b[1;34m(self, input, target)\u001b[0m\n\u001b[0;32m   1184\u001b[0m \u001b[38;5;28;01mdef\u001b[39;00m \u001b[38;5;21mforward\u001b[39m(\u001b[38;5;28mself\u001b[39m, \u001b[38;5;28minput\u001b[39m: Tensor, target: Tensor) \u001b[38;5;241m-\u001b[39m\u001b[38;5;241m>\u001b[39m Tensor:\n\u001b[1;32m-> 1185\u001b[0m     \u001b[38;5;28;01mreturn\u001b[39;00m \u001b[43mF\u001b[49m\u001b[38;5;241;43m.\u001b[39;49m\u001b[43mcross_entropy\u001b[49m\u001b[43m(\u001b[49m\u001b[38;5;28;43minput\u001b[39;49m\u001b[43m,\u001b[49m\u001b[43m \u001b[49m\u001b[43mtarget\u001b[49m\u001b[43m,\u001b[49m\u001b[43m \u001b[49m\u001b[43mweight\u001b[49m\u001b[38;5;241;43m=\u001b[39;49m\u001b[38;5;28;43mself\u001b[39;49m\u001b[38;5;241;43m.\u001b[39;49m\u001b[43mweight\u001b[49m\u001b[43m,\u001b[49m\n\u001b[0;32m   1186\u001b[0m \u001b[43m                           \u001b[49m\u001b[43mignore_index\u001b[49m\u001b[38;5;241;43m=\u001b[39;49m\u001b[38;5;28;43mself\u001b[39;49m\u001b[38;5;241;43m.\u001b[39;49m\u001b[43mignore_index\u001b[49m\u001b[43m,\u001b[49m\u001b[43m \u001b[49m\u001b[43mreduction\u001b[49m\u001b[38;5;241;43m=\u001b[39;49m\u001b[38;5;28;43mself\u001b[39;49m\u001b[38;5;241;43m.\u001b[39;49m\u001b[43mreduction\u001b[49m\u001b[43m,\u001b[49m\n\u001b[0;32m   1187\u001b[0m \u001b[43m                           \u001b[49m\u001b[43mlabel_smoothing\u001b[49m\u001b[38;5;241;43m=\u001b[39;49m\u001b[38;5;28;43mself\u001b[39;49m\u001b[38;5;241;43m.\u001b[39;49m\u001b[43mlabel_smoothing\u001b[49m\u001b[43m)\u001b[49m\n",
      "File \u001b[1;32mc:\\Users\\ARMANDO\\AppData\\Local\\Programs\\Python\\Python311\\Lib\\site-packages\\torch\\nn\\functional.py:3086\u001b[0m, in \u001b[0;36mcross_entropy\u001b[1;34m(input, target, weight, size_average, ignore_index, reduce, reduction, label_smoothing)\u001b[0m\n\u001b[0;32m   3084\u001b[0m \u001b[38;5;28;01mif\u001b[39;00m size_average \u001b[38;5;129;01mis\u001b[39;00m \u001b[38;5;129;01mnot\u001b[39;00m \u001b[38;5;28;01mNone\u001b[39;00m \u001b[38;5;129;01mor\u001b[39;00m reduce \u001b[38;5;129;01mis\u001b[39;00m \u001b[38;5;129;01mnot\u001b[39;00m \u001b[38;5;28;01mNone\u001b[39;00m:\n\u001b[0;32m   3085\u001b[0m     reduction \u001b[38;5;241m=\u001b[39m _Reduction\u001b[38;5;241m.\u001b[39mlegacy_get_string(size_average, reduce)\n\u001b[1;32m-> 3086\u001b[0m \u001b[38;5;28;01mreturn\u001b[39;00m \u001b[43mtorch\u001b[49m\u001b[38;5;241;43m.\u001b[39;49m\u001b[43m_C\u001b[49m\u001b[38;5;241;43m.\u001b[39;49m\u001b[43m_nn\u001b[49m\u001b[38;5;241;43m.\u001b[39;49m\u001b[43mcross_entropy_loss\u001b[49m\u001b[43m(\u001b[49m\u001b[38;5;28;43minput\u001b[39;49m\u001b[43m,\u001b[49m\u001b[43m \u001b[49m\u001b[43mtarget\u001b[49m\u001b[43m,\u001b[49m\u001b[43m \u001b[49m\u001b[43mweight\u001b[49m\u001b[43m,\u001b[49m\u001b[43m \u001b[49m\u001b[43m_Reduction\u001b[49m\u001b[38;5;241;43m.\u001b[39;49m\u001b[43mget_enum\u001b[49m\u001b[43m(\u001b[49m\u001b[43mreduction\u001b[49m\u001b[43m)\u001b[49m\u001b[43m,\u001b[49m\u001b[43m \u001b[49m\u001b[43mignore_index\u001b[49m\u001b[43m,\u001b[49m\u001b[43m \u001b[49m\u001b[43mlabel_smoothing\u001b[49m\u001b[43m)\u001b[49m\n",
      "\u001b[1;31mIndexError\u001b[0m: Target 8 is out of bounds."
     ]
    }
   ],
   "source": [
    "for t in range(epochs):\n",
    "    print(f'iteracion{t+1}/{epochs}\\n----------------')\n",
    "    train_loop(train_loader, model, fn_loss, optimizer)\n",
    "    val_loop(val_loader, model, fn_loss)\n",
    "print('eso!')"
   ]
  },
  {
   "cell_type": "markdown",
   "metadata": {},
   "source": []
  }
 ],
 "metadata": {
  "kernelspec": {
   "display_name": "Python 3",
   "language": "python",
   "name": "python3"
  },
  "language_info": {
   "codemirror_mode": {
    "name": "ipython",
    "version": 3
   },
   "file_extension": ".py",
   "mimetype": "text/x-python",
   "name": "python",
   "nbconvert_exporter": "python",
   "pygments_lexer": "ipython3",
   "version": "3.11.3"
  }
 },
 "nbformat": 4,
 "nbformat_minor": 2
}
