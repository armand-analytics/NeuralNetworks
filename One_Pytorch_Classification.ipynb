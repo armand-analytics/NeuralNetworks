{
 "cells": [
  {
   "cell_type": "code",
   "execution_count": 1,
   "metadata": {},
   "outputs": [],
   "source": [
    "# in this example we going to develop a classifier using torch python library and writing the complete rutine (architecture, pre-processing, processing, validation and prediction) from the scratch\n",
    "#lets start then importung principal librearies:\n",
    "import torch\n",
    "import matplotlib.pyplot as plt"
   ]
  },
  {
   "cell_type": "code",
   "execution_count": 4,
   "metadata": {},
   "outputs": [
    {
     "name": "stdout",
     "output_type": "stream",
     "text": [
      "cpu\n"
     ]
    }
   ],
   "source": [
    "array1=[[1, 2, 3],[1, 2, 3]]\n",
    "tensor1=torch.tensor(array1)\n",
    "# tensor1\n",
    "print(tensor1.device)"
   ]
  },
  {
   "cell_type": "code",
   "execution_count": 5,
   "metadata": {},
   "outputs": [
    {
     "name": "stdout",
     "output_type": "stream",
     "text": [
      "usando cpu\n"
     ]
    }
   ],
   "source": [
    "#have GPU?\n",
    "device=(\n",
    "    'cuda' if torch.cuda.is_available()\n",
    "    else 'cpu'\n",
    ")\n",
    "print(f'usando {device}')\n",
    "# in this case \"device\" is the CUDA variable for GPU when is available, but for now we'll working using CPU only"
   ]
  },
  {
   "cell_type": "code",
   "execution_count": 7,
   "metadata": {},
   "outputs": [
    {
     "name": "stdout",
     "output_type": "stream",
     "text": [
      "Collecting torchvision\n",
      "  Downloading torchvision-0.18.0-cp311-cp311-win_amd64.whl.metadata (6.6 kB)\n",
      "Requirement already satisfied: numpy in c:\\users\\armando\\appdata\\local\\programs\\python\\python311\\lib\\site-packages (from torchvision) (1.26.4)\n",
      "Requirement already satisfied: torch==2.3.0 in c:\\users\\armando\\appdata\\local\\programs\\python\\python311\\lib\\site-packages (from torchvision) (2.3.0)\n",
      "Requirement already satisfied: pillow!=8.3.*,>=5.3.0 in c:\\users\\armando\\appdata\\local\\programs\\python\\python311\\lib\\site-packages (from torchvision) (10.3.0)\n",
      "Requirement already satisfied: filelock in c:\\users\\armando\\appdata\\local\\programs\\python\\python311\\lib\\site-packages (from torch==2.3.0->torchvision) (3.14.0)\n",
      "Requirement already satisfied: typing-extensions>=4.8.0 in c:\\users\\armando\\appdata\\roaming\\python\\python311\\site-packages (from torch==2.3.0->torchvision) (4.11.0)\n",
      "Requirement already satisfied: sympy in c:\\users\\armando\\appdata\\local\\programs\\python\\python311\\lib\\site-packages (from torch==2.3.0->torchvision) (1.12)\n",
      "Requirement already satisfied: networkx in c:\\users\\armando\\appdata\\local\\programs\\python\\python311\\lib\\site-packages (from torch==2.3.0->torchvision) (3.3)\n",
      "Requirement already satisfied: jinja2 in c:\\users\\armando\\appdata\\local\\programs\\python\\python311\\lib\\site-packages (from torch==2.3.0->torchvision) (3.1.2)\n",
      "Requirement already satisfied: fsspec in c:\\users\\armando\\appdata\\local\\programs\\python\\python311\\lib\\site-packages (from torch==2.3.0->torchvision) (2024.3.1)\n",
      "Requirement already satisfied: mkl<=2021.4.0,>=2021.1.1 in c:\\users\\armando\\appdata\\local\\programs\\python\\python311\\lib\\site-packages (from torch==2.3.0->torchvision) (2021.4.0)\n",
      "Requirement already satisfied: intel-openmp==2021.* in c:\\users\\armando\\appdata\\local\\programs\\python\\python311\\lib\\site-packages (from mkl<=2021.4.0,>=2021.1.1->torch==2.3.0->torchvision) (2021.4.0)\n",
      "Requirement already satisfied: tbb==2021.* in c:\\users\\armando\\appdata\\local\\programs\\python\\python311\\lib\\site-packages (from mkl<=2021.4.0,>=2021.1.1->torch==2.3.0->torchvision) (2021.12.0)\n",
      "Requirement already satisfied: MarkupSafe>=2.0 in c:\\users\\armando\\appdata\\local\\programs\\python\\python311\\lib\\site-packages (from jinja2->torch==2.3.0->torchvision) (2.1.2)\n",
      "Requirement already satisfied: mpmath>=0.19 in c:\\users\\armando\\appdata\\local\\programs\\python\\python311\\lib\\site-packages (from sympy->torch==2.3.0->torchvision) (1.3.0)\n",
      "Downloading torchvision-0.18.0-cp311-cp311-win_amd64.whl (1.2 MB)\n",
      "   ---------------------------------------- 0.0/1.2 MB ? eta -:--:--\n",
      "   --- ------------------------------------ 0.1/1.2 MB 2.0 MB/s eta 0:00:01\n",
      "   ----- ---------------------------------- 0.2/1.2 MB 1.8 MB/s eta 0:00:01\n",
      "   -------- ------------------------------- 0.3/1.2 MB 1.8 MB/s eta 0:00:01\n",
      "   ----------- ---------------------------- 0.3/1.2 MB 1.6 MB/s eta 0:00:01\n",
      "   -------------- ------------------------- 0.4/1.2 MB 1.8 MB/s eta 0:00:01\n",
      "   ---------------- ----------------------- 0.5/1.2 MB 1.7 MB/s eta 0:00:01\n",
      "   ------------------- -------------------- 0.6/1.2 MB 1.6 MB/s eta 0:00:01\n",
      "   --------------------- ------------------ 0.6/1.2 MB 1.6 MB/s eta 0:00:01\n",
      "   ------------------------ --------------- 0.7/1.2 MB 1.6 MB/s eta 0:00:01\n",
      "   --------------------------- ------------ 0.8/1.2 MB 1.6 MB/s eta 0:00:01\n",
      "   ----------------------------- ---------- 0.9/1.2 MB 1.6 MB/s eta 0:00:01\n",
      "   -------------------------------- ------- 0.9/1.2 MB 1.6 MB/s eta 0:00:01\n",
      "   ---------------------------------- ----- 1.0/1.2 MB 1.6 MB/s eta 0:00:01\n",
      "   ------------------------------------ --- 1.1/1.2 MB 1.6 MB/s eta 0:00:01\n",
      "   ---------------------------------------  1.2/1.2 MB 1.5 MB/s eta 0:00:01\n",
      "   ---------------------------------------  1.2/1.2 MB 1.5 MB/s eta 0:00:01\n",
      "   ---------------------------------------  1.2/1.2 MB 1.5 MB/s eta 0:00:01\n",
      "   ---------------------------------------  1.2/1.2 MB 1.5 MB/s eta 0:00:01\n",
      "   ---------------------------------------- 1.2/1.2 MB 1.2 MB/s eta 0:00:00\n",
      "Installing collected packages: torchvision\n",
      "Successfully installed torchvision-0.18.0\n",
      "Note: you may need to restart the kernel to use updated packages.\n"
     ]
    }
   ],
   "source": [
    "pip install torchvision"
   ]
  },
  {
   "cell_type": "code",
   "execution_count": 8,
   "metadata": {},
   "outputs": [],
   "source": [
    "# now lets import our dataset\n",
    "from torchvision import datasets\n",
    "from torchvision.transforms import ToTensor\n"
   ]
  },
  {
   "cell_type": "code",
   "execution_count": 10,
   "metadata": {},
   "outputs": [],
   "source": []
  }
 ],
 "metadata": {
  "kernelspec": {
   "display_name": "Python 3",
   "language": "python",
   "name": "python3"
  },
  "language_info": {
   "codemirror_mode": {
    "name": "ipython",
    "version": 3
   },
   "file_extension": ".py",
   "mimetype": "text/x-python",
   "name": "python",
   "nbconvert_exporter": "python",
   "pygments_lexer": "ipython3",
   "version": "3.11.3"
  }
 },
 "nbformat": 4,
 "nbformat_minor": 2
}
