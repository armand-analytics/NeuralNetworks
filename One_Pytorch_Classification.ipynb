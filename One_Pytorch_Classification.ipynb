{
 "cells": [
  {
   "cell_type": "code",
   "execution_count": 1,
   "metadata": {},
   "outputs": [],
   "source": [
    "# in this example we going to develop a classifier using torch python library and writing the complete rutine (architecture, pre-processing, processing, validation and prediction) from the scratch\n",
    "#lets start then importung principal librearies:\n",
    "import torch\n",
    "import matplotlib.pyplot as plt"
   ]
  },
  {
   "cell_type": "code",
   "execution_count": 4,
   "metadata": {},
   "outputs": [
    {
     "name": "stdout",
     "output_type": "stream",
     "text": [
      "cpu\n"
     ]
    }
   ],
   "source": [
    "array1=[[1, 2, 3],[1, 2, 3]]\n",
    "tensor1=torch.tensor(array1)\n",
    "# tensor1\n",
    "print(tensor1.device)"
   ]
  },
  {
   "cell_type": "code",
   "execution_count": 162,
   "metadata": {},
   "outputs": [
    {
     "name": "stdout",
     "output_type": "stream",
     "text": [
      "usando cpu\n"
     ]
    }
   ],
   "source": [
    "#have GPU?\n",
    "device=(\n",
    "    'cuda' if torch.cuda.is_available()\n",
    "    else 'cpu'\n",
    ")\n",
    "print(f'usando {device}')\n",
    "# in this case \"device\" is the CUDA variable for GPU when is available, but for now we'll working using CPU only"
   ]
  },
  {
   "cell_type": "code",
   "execution_count": 7,
   "metadata": {},
   "outputs": [
    {
     "name": "stdout",
     "output_type": "stream",
     "text": [
      "Collecting torchvision\n",
      "  Downloading torchvision-0.18.0-cp311-cp311-win_amd64.whl.metadata (6.6 kB)\n",
      "Requirement already satisfied: numpy in c:\\users\\armando\\appdata\\local\\programs\\python\\python311\\lib\\site-packages (from torchvision) (1.26.4)\n",
      "Requirement already satisfied: torch==2.3.0 in c:\\users\\armando\\appdata\\local\\programs\\python\\python311\\lib\\site-packages (from torchvision) (2.3.0)\n",
      "Requirement already satisfied: pillow!=8.3.*,>=5.3.0 in c:\\users\\armando\\appdata\\local\\programs\\python\\python311\\lib\\site-packages (from torchvision) (10.3.0)\n",
      "Requirement already satisfied: filelock in c:\\users\\armando\\appdata\\local\\programs\\python\\python311\\lib\\site-packages (from torch==2.3.0->torchvision) (3.14.0)\n",
      "Requirement already satisfied: typing-extensions>=4.8.0 in c:\\users\\armando\\appdata\\roaming\\python\\python311\\site-packages (from torch==2.3.0->torchvision) (4.11.0)\n",
      "Requirement already satisfied: sympy in c:\\users\\armando\\appdata\\local\\programs\\python\\python311\\lib\\site-packages (from torch==2.3.0->torchvision) (1.12)\n",
      "Requirement already satisfied: networkx in c:\\users\\armando\\appdata\\local\\programs\\python\\python311\\lib\\site-packages (from torch==2.3.0->torchvision) (3.3)\n",
      "Requirement already satisfied: jinja2 in c:\\users\\armando\\appdata\\local\\programs\\python\\python311\\lib\\site-packages (from torch==2.3.0->torchvision) (3.1.2)\n",
      "Requirement already satisfied: fsspec in c:\\users\\armando\\appdata\\local\\programs\\python\\python311\\lib\\site-packages (from torch==2.3.0->torchvision) (2024.3.1)\n",
      "Requirement already satisfied: mkl<=2021.4.0,>=2021.1.1 in c:\\users\\armando\\appdata\\local\\programs\\python\\python311\\lib\\site-packages (from torch==2.3.0->torchvision) (2021.4.0)\n",
      "Requirement already satisfied: intel-openmp==2021.* in c:\\users\\armando\\appdata\\local\\programs\\python\\python311\\lib\\site-packages (from mkl<=2021.4.0,>=2021.1.1->torch==2.3.0->torchvision) (2021.4.0)\n",
      "Requirement already satisfied: tbb==2021.* in c:\\users\\armando\\appdata\\local\\programs\\python\\python311\\lib\\site-packages (from mkl<=2021.4.0,>=2021.1.1->torch==2.3.0->torchvision) (2021.12.0)\n",
      "Requirement already satisfied: MarkupSafe>=2.0 in c:\\users\\armando\\appdata\\local\\programs\\python\\python311\\lib\\site-packages (from jinja2->torch==2.3.0->torchvision) (2.1.2)\n",
      "Requirement already satisfied: mpmath>=0.19 in c:\\users\\armando\\appdata\\local\\programs\\python\\python311\\lib\\site-packages (from sympy->torch==2.3.0->torchvision) (1.3.0)\n",
      "Downloading torchvision-0.18.0-cp311-cp311-win_amd64.whl (1.2 MB)\n",
      "   ---------------------------------------- 0.0/1.2 MB ? eta -:--:--\n",
      "   --- ------------------------------------ 0.1/1.2 MB 2.0 MB/s eta 0:00:01\n",
      "   ----- ---------------------------------- 0.2/1.2 MB 1.8 MB/s eta 0:00:01\n",
      "   -------- ------------------------------- 0.3/1.2 MB 1.8 MB/s eta 0:00:01\n",
      "   ----------- ---------------------------- 0.3/1.2 MB 1.6 MB/s eta 0:00:01\n",
      "   -------------- ------------------------- 0.4/1.2 MB 1.8 MB/s eta 0:00:01\n",
      "   ---------------- ----------------------- 0.5/1.2 MB 1.7 MB/s eta 0:00:01\n",
      "   ------------------- -------------------- 0.6/1.2 MB 1.6 MB/s eta 0:00:01\n",
      "   --------------------- ------------------ 0.6/1.2 MB 1.6 MB/s eta 0:00:01\n",
      "   ------------------------ --------------- 0.7/1.2 MB 1.6 MB/s eta 0:00:01\n",
      "   --------------------------- ------------ 0.8/1.2 MB 1.6 MB/s eta 0:00:01\n",
      "   ----------------------------- ---------- 0.9/1.2 MB 1.6 MB/s eta 0:00:01\n",
      "   -------------------------------- ------- 0.9/1.2 MB 1.6 MB/s eta 0:00:01\n",
      "   ---------------------------------- ----- 1.0/1.2 MB 1.6 MB/s eta 0:00:01\n",
      "   ------------------------------------ --- 1.1/1.2 MB 1.6 MB/s eta 0:00:01\n",
      "   ---------------------------------------  1.2/1.2 MB 1.5 MB/s eta 0:00:01\n",
      "   ---------------------------------------  1.2/1.2 MB 1.5 MB/s eta 0:00:01\n",
      "   ---------------------------------------  1.2/1.2 MB 1.5 MB/s eta 0:00:01\n",
      "   ---------------------------------------  1.2/1.2 MB 1.5 MB/s eta 0:00:01\n",
      "   ---------------------------------------- 1.2/1.2 MB 1.2 MB/s eta 0:00:00\n",
      "Installing collected packages: torchvision\n",
      "Successfully installed torchvision-0.18.0\n",
      "Note: you may need to restart the kernel to use updated packages.\n"
     ]
    }
   ],
   "source": [
    "pip install torchvision"
   ]
  },
  {
   "cell_type": "code",
   "execution_count": 8,
   "metadata": {},
   "outputs": [],
   "source": [
    "# now lets import our dataset\n",
    "from torchvision import datasets\n",
    "from torchvision.transforms import ToTensor"
   ]
  },
  {
   "cell_type": "code",
   "execution_count": 12,
   "metadata": {},
   "outputs": [
    {
     "name": "stdout",
     "output_type": "stream",
     "text": [
      "Downloading http://yann.lecun.com/exdb/mnist/train-images-idx3-ubyte.gz\n",
      "Failed to download (trying next):\n",
      "HTTP Error 403: Forbidden\n",
      "\n",
      "Downloading https://ossci-datasets.s3.amazonaws.com/mnist/train-images-idx3-ubyte.gz\n",
      "Downloading https://ossci-datasets.s3.amazonaws.com/mnist/train-images-idx3-ubyte.gz to datos\\MNIST\\raw\\train-images-idx3-ubyte.gz\n"
     ]
    },
    {
     "name": "stderr",
     "output_type": "stream",
     "text": [
      "100%|██████████| 9912422/9912422 [00:11<00:00, 870885.97it/s]\n"
     ]
    },
    {
     "name": "stdout",
     "output_type": "stream",
     "text": [
      "Extracting datos\\MNIST\\raw\\train-images-idx3-ubyte.gz to datos\\MNIST\\raw\n",
      "\n",
      "Downloading http://yann.lecun.com/exdb/mnist/train-labels-idx1-ubyte.gz\n",
      "Failed to download (trying next):\n",
      "HTTP Error 403: Forbidden\n",
      "\n",
      "Downloading https://ossci-datasets.s3.amazonaws.com/mnist/train-labels-idx1-ubyte.gz\n",
      "Downloading https://ossci-datasets.s3.amazonaws.com/mnist/train-labels-idx1-ubyte.gz to datos\\MNIST\\raw\\train-labels-idx1-ubyte.gz\n"
     ]
    },
    {
     "name": "stderr",
     "output_type": "stream",
     "text": [
      "100%|██████████| 28881/28881 [00:00<00:00, 416742.16it/s]\n"
     ]
    },
    {
     "name": "stdout",
     "output_type": "stream",
     "text": [
      "Extracting datos\\MNIST\\raw\\train-labels-idx1-ubyte.gz to datos\\MNIST\\raw\n",
      "\n",
      "Downloading http://yann.lecun.com/exdb/mnist/t10k-images-idx3-ubyte.gz\n",
      "Failed to download (trying next):\n",
      "HTTP Error 403: Forbidden\n",
      "\n",
      "Downloading https://ossci-datasets.s3.amazonaws.com/mnist/t10k-images-idx3-ubyte.gz\n",
      "Downloading https://ossci-datasets.s3.amazonaws.com/mnist/t10k-images-idx3-ubyte.gz to datos\\MNIST\\raw\\t10k-images-idx3-ubyte.gz\n"
     ]
    },
    {
     "name": "stderr",
     "output_type": "stream",
     "text": [
      "100%|██████████| 1648877/1648877 [00:01<00:00, 886843.19it/s]\n"
     ]
    },
    {
     "name": "stdout",
     "output_type": "stream",
     "text": [
      "Extracting datos\\MNIST\\raw\\t10k-images-idx3-ubyte.gz to datos\\MNIST\\raw\n",
      "\n",
      "Downloading http://yann.lecun.com/exdb/mnist/t10k-labels-idx1-ubyte.gz\n",
      "Failed to download (trying next):\n",
      "HTTP Error 403: Forbidden\n",
      "\n",
      "Downloading https://ossci-datasets.s3.amazonaws.com/mnist/t10k-labels-idx1-ubyte.gz\n",
      "Downloading https://ossci-datasets.s3.amazonaws.com/mnist/t10k-labels-idx1-ubyte.gz to datos\\MNIST\\raw\\t10k-labels-idx1-ubyte.gz\n"
     ]
    },
    {
     "name": "stderr",
     "output_type": "stream",
     "text": [
      "100%|██████████| 4542/4542 [00:00<00:00, 2272519.24it/s]\n"
     ]
    },
    {
     "name": "stdout",
     "output_type": "stream",
     "text": [
      "Extracting datos\\MNIST\\raw\\t10k-labels-idx1-ubyte.gz to datos\\MNIST\\raw\n",
      "\n"
     ]
    }
   ],
   "source": [
    "# creamos un directorio para guardar el dataset\n",
    "data_mnist=datasets.MNIST(\n",
    "    root= 'datos', # where root is the root directry on which where we are\n",
    "    train= True, \n",
    "    download= True, \n",
    "    transform= ToTensor()\n",
    ")\n",
    "#now we have our 60k data items available and transformed to tensors using ToTensor"
   ]
  },
  {
   "cell_type": "code",
   "execution_count": 61,
   "metadata": {},
   "outputs": [
    {
     "data": {
      "text/plain": [
       "<Figure size 800x800 with 0 Axes>"
      ]
     },
     "metadata": {},
     "output_type": "display_data"
    }
   ],
   "source": [
    "\n",
    "# figure            \n"
   ]
  },
  {
   "cell_type": "code",
   "execution_count": 116,
   "metadata": {},
   "outputs": [
    {
     "data": {
      "image/png": "[encoded data removed]",
      "text/plain": [
       "<Figure size 800x800 with 9 Axes>"
      ]
     },
     "metadata": {},
     "output_type": "display_data"
    }
   ],
   "source": [
    "rows, cols = 3, 3\n",
    "#Lets see our data content:\n",
    "figure=plt.figure(figsize=(8,8))\n",
    "for i in range(1, cols*rows +1):\n",
    "    sample_id=torch.randint(len(data_mnist), size=(1,)).item()\n",
    "    img, lebel= data_mnist[sample_id]\n",
    "    figure.add_subplot(rows, cols, i)\n",
    "    plt.title(str(lebel))\n",
    "    plt.axis('off')\n",
    "    plt.imshow(img.squeeze(), cmap='CMRmap')\n",
    "plt.show()"
   ]
  },
  {
   "cell_type": "code",
   "execution_count": 120,
   "metadata": {},
   "outputs": [
    {
     "data": {
      "text/plain": [
       "<torch._C.Generator at 0x258ba73ea30>"
      ]
     },
     "execution_count": 120,
     "metadata": {},
     "output_type": "execute_result"
    }
   ],
   "source": [
    "#training, validation and test datasets (80%, 10%, 10%): we need to create 3 partitions over the actual dataset to achive our goals. To do so...\n",
    "torch.manual_seed(123) #lets take the randomness control\n",
    "#now we can recreate the model independently of the running times."
   ]
  },
  {
   "cell_type": "code",
   "execution_count": 123,
   "metadata": {},
   "outputs": [
    {
     "name": "stdout",
     "output_type": "stream",
     "text": [
      "training set: 48000\n",
      "training val: 6000\n",
      "training test: 6000\n"
     ]
    }
   ],
   "source": [
    "train, val, test=torch.utils.data.random_split(\n",
    "    data_mnist, [0.8 ,0.1, 0.1]\n",
    ")\n",
    "print(f'training set: {len(train)}')\n",
    "print(f'training val: {len(val)}')\n",
    "print(f'training test: {len(test)}')\n"
   ]
  },
  {
   "cell_type": "code",
   "execution_count": 148,
   "metadata": {},
   "outputs": [],
   "source": [
    "#as any NN doesn't accept any type of images. a nn accept vectores only, \n",
    "# then the first vector it's ging to have 28X28 elements i.e. 784 elements (flaten)\n",
    "#hide layer Nlayer + RELU (15 nodes) last layer 10 nodes softmax\n",
    "#In pytorch includint transformers, we use nn module\n",
    "\n",
    "#any neural network architecture is actually a sublass/class of nn.Module\n",
    "#alwais have to add 2 METHODES to this new CLASS: 1.- init (it defines the actual architecture of the neural network)\n",
    "# 2.- \"forward methode\" (tells us how each predition will be generated)\n",
    "import torch.nn as nn\n",
    "#create Methode INIT by using def in Class definition\n",
    "\n",
    "class neuralnet(nn.Module):\n",
    "    def __init__(self):\n",
    "        super().__init__()\n",
    "        \n",
    "        #we use self along with nn. to add sequentially avery layer we have\n",
    "        #as we said we don't have vectors but images so we need to flat it using flatten\n",
    "        #by self \"object\" (in neural net) we asosiate a new variable called \"flatit\"\n",
    "        self.flatit=nn.Flatten()\n",
    "        self.net=nn.Sequential(#allows to interconect all the layers, net is the atribute that contains all the tree net layers\n",
    "            nn.Linear(28*28, 50),\n",
    "            nn.ReLU(),\n",
    "            nn.Linear(50, 25),\n",
    "            nn.Linear(25, 5),\n",
    "            nn.Softmax()        ##Softmax normalize into (0, 1) to interpret as probability\n",
    "        )\n",
    "    def forward(self, x):#how our neural network actually process the data\n",
    "        #x: entry data item\n",
    "        x=self.flatit(x)\n",
    "        logits=self.net(x) #  numeric values (10) (the output of our network)\n",
    "        return logits\n"
   ]
  },
  {
   "cell_type": "code",
   "execution_count": 152,
   "metadata": {},
   "outputs": [
    {
     "name": "stdout",
     "output_type": "stream",
     "text": [
      "neuralnet(\n",
      "  (flatit): Flatten(start_dim=1, end_dim=-1)\n",
      "  (net): Sequential(\n",
      "    (0): Linear(in_features=784, out_features=50, bias=True)\n",
      "    (1): ReLU()\n",
      "    (2): Linear(in_features=50, out_features=25, bias=True)\n",
      "    (3): Linear(in_features=25, out_features=5, bias=True)\n",
      "    (4): Softmax(dim=None)\n",
      "  )\n",
      ")\n",
      "the number of parameters in the neural network arch is 40655\n"
     ]
    }
   ],
   "source": [
    "model=neuralnet()# we are generating a new instance of the neural network by () writed in model var\n",
    "print(model)\n",
    "t=sum(p.numel() for p in  model.parameters())\n",
    "print(f'the number of parameters in the neural network arch is {t}')"
   ]
  },
  {
   "cell_type": "code",
   "execution_count": 156,
   "metadata": {},
   "outputs": [
    {
     "name": "stdout",
     "output_type": "stream",
     "text": [
      "<class 'torch.Tensor'>\n",
      "<class 'int'>\n",
      "we procced to transform int type into tensor to be properly processed by te network...\n",
      "now our lbl is a <class 'torch.Tensor'>\n"
     ]
    }
   ],
   "source": [
    "#forward propagation:\n",
    "# is the frst predition we gonna have and its not going to be really good itis like this because we need additional tools like back propagation and the gradiant descending/ce\n",
    "img, lbl=train[201]\n",
    "print(type(img))\n",
    "print(type(lbl))\n",
    "print('we procced to transform int type into tensor to be properly processed by te network...')\n",
    "lbl=torch.tensor(lbl).reshape(1)\n",
    "print(f'now our lbl is a {type(lbl)}')\n"
   ]
  },
  {
   "cell_type": "code",
   "execution_count": 164,
   "metadata": {},
   "outputs": [],
   "source": [
    "img, lbl = img.to(device), lbl.to(device)"
   ]
  },
  {
   "cell_type": "code",
   "execution_count": 158,
   "metadata": {},
   "outputs": [
    {
     "name": "stderr",
     "output_type": "stream",
     "text": [
      "c:\\Users\\ARMANDO\\AppData\\Local\\Programs\\Python\\Python311\\Lib\\site-packages\\torch\\nn\\modules\\module.py:1532: UserWarning: Implicit dimension choice for softmax has been deprecated. Change the call to include dim=X as an argument.\n",
      "  return self._call_impl(*args, **kwargs)\n"
     ]
    },
    {
     "data": {
      "text/plain": [
       "tensor([[0.1842, 0.1750, 0.1833, 0.2138, 0.2437]], grad_fn=<SoftmaxBackward0>)"
      ]
     },
     "execution_count": 158,
     "metadata": {},
     "output_type": "execute_result"
    }
   ],
   "source": [
    "logits=model(img)\n",
    "logits"
   ]
  },
  {
   "cell_type": "code",
   "execution_count": 174,
   "metadata": {},
   "outputs": [
    {
     "name": "stdout",
     "output_type": "stream",
     "text": [
      "logits:tensor([[0.1842, 0.1750, 0.1833, 0.2138, 0.2437]], grad_fn=<SoftmaxBackward0>)\n",
      "predicted category: 4\n",
      "actual category: 2\n"
     ]
    },
    {
     "data": {
      "image/png": "[encoded data removed]",
      "text/plain": [
       "<Figure size 640x480 with 1 Axes>"
      ]
     },
     "metadata": {},
     "output_type": "display_data"
    }
   ],
   "source": [
    "y_predict=logits.argmax(1)\n",
    "# ypredict\n",
    "plt.imshow(img.cpu().squeeze(), cmap='CMRmap_r');\n",
    "print(f'logits:{logits}')\n",
    "print(f'predicted category: {y_predict[0]}')\n",
    "print(f'actual category: {lbl[0]}')"
   ]
  }
 ],
 "metadata": {
  "kernelspec": {
   "display_name": "Python 3",
   "language": "python",
   "name": "python3"
  },
  "language_info": {
   "codemirror_mode": {
    "name": "ipython",
    "version": 3
   },
   "file_extension": ".py",
   "mimetype": "text/x-python",
   "name": "python",
   "nbconvert_exporter": "python",
   "pygments_lexer": "ipython3",
   "version": "3.11.3"
  }
 },
 "nbformat": 4,
 "nbformat_minor": 2
}
